{
 "cells": [
  {
   "cell_type": "code",
   "execution_count": 102,
   "id": "cardiovascular-turtle",
   "metadata": {},
   "outputs": [],
   "source": [
    "import tarfile\n",
    "from functools import partial\n",
    "\n",
    "import pandas as pd\n"
   ]
  },
  {
   "cell_type": "code",
   "execution_count": 63,
   "id": "jewish-point",
   "metadata": {},
   "outputs": [],
   "source": [
    "PATH = \"errors.tar.gz\""
   ]
  },
  {
   "cell_type": "code",
   "execution_count": 101,
   "id": "involved-redhead",
   "metadata": {},
   "outputs": [],
   "source": [
    "def read_data(path: str) -> pd.DataFrame:\n",
    "    with tarfile.open(path, \"r:*\") as file:\n",
    "        path = file.getnames()[0]\n",
    "        data = pd.read_json(file.extractfile(path), lines=True, orient=\"records\")\n",
    "        data.rename(columns={\"index\": \"example_index\"}, inplace=True)\n",
    "        return data"
   ]
  },
  {
   "cell_type": "code",
   "execution_count": 105,
   "id": "certain-livestock",
   "metadata": {},
   "outputs": [],
   "source": [
    "def common_errors(data: pd.DataFrame, train_type: str, n: int, ascending: bool) -> pd.DataFrame:\n",
    "    data = data.loc[data.train_type == train_type]\n",
    "    errors = data.pivot_table(index=\"example_index\", aggfunc=\"size\").sort_values(ascending=ascending).head(n)\n",
    "    data = data.loc[data.example_index.isin(errors.index)]\n",
    "    return data\n",
    "\n",
    "# top_50_errors partial(common_errors, )"
   ]
  },
  {
   "cell_type": "code",
   "execution_count": null,
   "id": "solid-sierra",
   "metadata": {},
   "outputs": [],
   "source": []
  }
 ],
 "metadata": {
  "kernelspec": {
   "display_name": "Python 3",
   "language": "python",
   "name": "python3"
  },
  "language_info": {
   "codemirror_mode": {
    "name": "ipython",
    "version": 3
   },
   "file_extension": ".py",
   "mimetype": "text/x-python",
   "name": "python",
   "nbconvert_exporter": "python",
   "pygments_lexer": "ipython3",
   "version": "3.8.3"
  }
 },
 "nbformat": 4,
 "nbformat_minor": 5
}
